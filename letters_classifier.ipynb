{
 "cells": [
  {
   "cell_type": "markdown",
   "metadata": {
    "id": "CqWw3aP7wgOL"
   },
   "source": [
    "# 0. Подготовка данных (1 балл)\n",
    "\n",
    "Данные представляют собой набор первых 10 букв от A до J латинского алфавита (каждая буква - класс), написанных разными шрифтами. Ваша задача - написать классификатор для этих данных, определяющий буквы на изображении"
   ]
  },
  {
   "cell_type": "code",
   "execution_count": 1,
   "metadata": {
    "colab": {
     "base_uri": "https://localhost:8080/"
    },
    "id": "7id2yGEAwgOS",
    "outputId": "f2030ad6-0848-48ed-b257-740c6250005b"
   },
   "outputs": [
    {
     "name": "stdout",
     "output_type": "stream",
     "text": [
      "--2021-01-30 19:34:27--  http://yaroslavvb.com/upload/notMNIST/notMNIST_large.tar.gz\n",
      "Resolving yaroslavvb.com (yaroslavvb.com)... 129.121.4.193\n",
      "Connecting to yaroslavvb.com (yaroslavvb.com)|129.121.4.193|:80... connected.\n",
      "HTTP request sent, awaiting response... 200 OK\n",
      "Length: 247336696 (236M) [application/x-gzip]\n",
      "Saving to: ‘notMNIST_large.tar.gz’\n",
      "\n",
      "notMNIST_large.tar. 100%[===================>] 235.88M  60.3MB/s    in 4.0s    \n",
      "\n",
      "2021-01-30 19:34:31 (58.5 MB/s) - ‘notMNIST_large.tar.gz’ saved [247336696/247336696]\n",
      "\n"
     ]
    }
   ],
   "source": [
    "!wget http://yaroslavvb.com/upload/notMNIST/notMNIST_large.tar.gz\n",
    "!tar -xvf notMNIST_large.tar.gz >> /dev/null"
   ]
  },
  {
   "cell_type": "code",
   "execution_count": 2,
   "metadata": {
    "id": "tVhJaVMqDZwn"
   },
   "outputs": [],
   "source": [
    "DATA_DIR = 'notMNIST_large/'"
   ]
  },
  {
   "cell_type": "code",
   "execution_count": 3,
   "metadata": {
    "id": "bf8Pgdia_bBH"
   },
   "outputs": [],
   "source": [
    "# Delete incorrect files\n",
    "\n",
    "from glob import glob\n",
    "from PIL import Image\n",
    "import os\n",
    "\n",
    "for img_path in glob(f'{DATA_DIR}/**/*.png'):\n",
    "  try:\n",
    "    img = Image.open(img_path)\n",
    "  except:\n",
    "    os.remove(img_path)"
   ]
  },
  {
   "cell_type": "code",
   "execution_count": 4,
   "metadata": {
    "colab": {
     "base_uri": "https://localhost:8080/",
     "height": 445
    },
    "id": "ECDy-LErwgOV",
    "outputId": "e59f9132-6ca0-4f95-ff47-c8f853bdaf86"
   },
   "outputs": [
    {
     "data": {
      "text/plain": [
       "<matplotlib.image.AxesImage at 0x7f0474885f98>"
      ]
     },
     "execution_count": 4,
     "metadata": {
      "tags": []
     },
     "output_type": "execute_result"
    },
    {
     "data": {
      "image/png": "[encoded data removed]",
      "text/plain": [
       "<Figure size 504x504 with 1 Axes>"
      ]
     },
     "metadata": {
      "needs_background": "light",
      "tags": []
     },
     "output_type": "display_data"
    }
   ],
   "source": [
    "%matplotlib inline\n",
    "import matplotlib.pyplot as plt\n",
    "import cv2\n",
    "\n",
    "plt.figure(figsize=(7,7))\n",
    "letter = 'H'\n",
    "img = cv2.imread(os.path.join(DATA_DIR, letter, os.listdir(f'{DATA_DIR}/{letter}/')[1]))\n",
    "plt.imshow(img)"
   ]
  },
  {
   "cell_type": "code",
   "execution_count": 5,
   "metadata": {
    "colab": {
     "base_uri": "https://localhost:8080/"
    },
    "id": "1TfvZUCRF86D",
    "outputId": "0157ad9a-e420-42db-c14c-7b3e3929281f"
   },
   "outputs": [
    {
     "name": "stdout",
     "output_type": "stream",
     "text": [
      "28 28\n"
     ]
    }
   ],
   "source": [
    "img = Image.open(os.path.join(DATA_DIR, letter, os.listdir(f'{DATA_DIR}/{letter}/')[1]))\n",
    "w,h=img.size\n",
    "print(w, h)"
   ]
  },
  {
   "cell_type": "markdown",
   "metadata": {
    "id": "b-XmxjpiwgOV"
   },
   "source": [
    "# Модель (3 балла)"
   ]
  },
  {
   "cell_type": "code",
   "execution_count": 15,
   "metadata": {
    "id": "hIWI5FDgwgOW"
   },
   "outputs": [],
   "source": [
    "import os\n",
    "import keras\n",
    "from keras import backend as K\n",
    "from keras.models import Sequential\n",
    "from keras.optimizers import Adam\n",
    "from keras.preprocessing import image\n",
    "from keras.layers.core import Activation, Reshape, Dense, Flatten\n",
    "from keras.layers import (\n",
    "    Conv2D,\n",
    "    MaxPooling2D,\n",
    "    InputLayer,\n",
    "    BatchNormalization,\n",
    "    Dropout\n",
    ")\n",
    "from keras.optimizers import SGD\n",
    "from keras.layers.advanced_activations import LeakyReLU\n",
    "from keras.models import Model\n",
    "import tensorflow as tf\n",
    "from tensorflow.keras.preprocessing.image import ImageDataGenerator\n",
    "\n",
    "\n",
    "def make_model(n_classes):\n",
    "    model = Sequential()\n",
    "    model.add(Conv2D(16, (3, 3), activation=\"relu\", input_shape=(28, 28, 1)))\n",
    "    model.add(LeakyReLU(0.1))\n",
    "\n",
    "    # 2 Convolution\n",
    "    model.add(Conv2D(32, padding=\"same\", kernel_size=(3, 3)))\n",
    "    model.add(LeakyReLU(0.1))\n",
    "\n",
    "    # MaxPooling\n",
    "    model.add(MaxPooling2D((2, 2)))\n",
    "    model.add(Dropout(0.25, noise_shape=None, seed=0))\n",
    "\n",
    "    # 3 Convolution\n",
    "    model.add(Conv2D(32, padding=\"same\", kernel_size=(3, 3)))\n",
    "    model.add(LeakyReLU(0.1))\n",
    "    \n",
    "    # MaxPooling\n",
    "    model.add(MaxPooling2D((2, 2)))\n",
    "    model.add(Dropout(0.25, noise_shape=None, seed=0))\n",
    "    \n",
    "    # 4 convolution\n",
    "    model.add(Conv2D(64, padding=\"same\", kernel_size=(3, 3)))\n",
    "    model.add(LeakyReLU(0.1))\n",
    "    \n",
    "    #2 MaxPooling\n",
    "    model.add(MaxPooling2D((2, 2)))\n",
    "    model.add(Dropout(0.25, noise_shape=None, seed=0))\n",
    "\n",
    "    model.add(Flatten())\n",
    "    model.add(Dense(256, activation=\"relu\"))\n",
    "    model.add(Dense(256, activation=\"relu\"))\n",
    "    model.add(Dropout(0.5, noise_shape=None, seed=0))\n",
    "\n",
    "    model.add(Dense(n_classes, activation=\"softmax\"))\n",
    "    # compile model\n",
    "    opt = keras.optimizers.Adam(learning_rate=0.00015)\n",
    "    model.compile(optimizer=opt, loss=\"categorical_crossentropy\", metrics=[\"accuracy\"])\n",
    "    return model"
   ]
  },
  {
   "cell_type": "markdown",
   "metadata": {
    "id": "Gjeg3rwEHCJp"
   },
   "source": [
    "# Аугментация данных (3 балла)\n",
    "\n",
    "train/val split должен быть 9/1 !"
   ]
  },
  {
   "cell_type": "code",
   "execution_count": 7,
   "metadata": {
    "colab": {
     "base_uri": "https://localhost:8080/"
    },
    "id": "MgXqwmWpwgOW",
    "outputId": "4af99303-f301-4f2c-d890-6a21b7687835"
   },
   "outputs": [
    {
     "name": "stdout",
     "output_type": "stream",
     "text": [
      "Found 476205 images belonging to 10 classes.\n",
      "Found 52909 images belonging to 10 classes.\n"
     ]
    }
   ],
   "source": [
    "\"\"\"Подсказка: train/val split удобно делать вот так:\n",
    "stackoverflow.com/questions/53037510/can-flow-from-directory-get-train-and-validation-data-from-the-same-directory-in\n",
    "(самый залайканый ответ)\"\"\"\n",
    "\n",
    "\"\"\" Data generators initialization: for train and validation sets \"\"\"\n",
    "batch_size = 32  # Try to change it later\n",
    "\n",
    "generator = ImageDataGenerator(rescale=(1.0 / 255), validation_split=0.1, zoom_range=0.2, shear_range=0.1)\n",
    "\n",
    "train_generator = generator.flow_from_directory(\n",
    "    DATA_DIR, target_size=(28, 28), color_mode=\"grayscale\", batch_size=batch_size, subset=\"training\"\n",
    ")\n",
    "\n",
    "valid_generator = generator.flow_from_directory(\n",
    "    DATA_DIR, target_size=(28, 28), color_mode=\"grayscale\", batch_size=batch_size, subset=\"validation\"\n",
    ")"
   ]
  },
  {
   "cell_type": "code",
   "execution_count": 16,
   "metadata": {
    "colab": {
     "base_uri": "https://localhost:8080/"
    },
    "id": "UbIhuNzByRwT",
    "outputId": "bfebc28f-3d15-4c58-9244-ff0911713c03"
   },
   "outputs": [
    {
     "name": "stdout",
     "output_type": "stream",
     "text": [
      "Model: \"sequential\"\n",
      "_________________________________________________________________\n",
      "Layer (type)                 Output Shape              Param #   \n",
      "=================================================================\n",
      "conv2d (Conv2D)              (None, 26, 26, 16)        160       \n",
      "_________________________________________________________________\n",
      "leaky_re_lu (LeakyReLU)      (None, 26, 26, 16)        0         \n",
      "_________________________________________________________________\n",
      "conv2d_1 (Conv2D)            (None, 26, 26, 32)        4640      \n",
      "_________________________________________________________________\n",
      "leaky_re_lu_1 (LeakyReLU)    (None, 26, 26, 32)        0         \n",
      "_________________________________________________________________\n",
      "max_pooling2d (MaxPooling2D) (None, 13, 13, 32)        0         \n",
      "_________________________________________________________________\n",
      "dropout (Dropout)            (None, 13, 13, 32)        0         \n",
      "_________________________________________________________________\n",
      "conv2d_2 (Conv2D)            (None, 13, 13, 32)        9248      \n",
      "_________________________________________________________________\n",
      "leaky_re_lu_2 (LeakyReLU)    (None, 13, 13, 32)        0         \n",
      "_________________________________________________________________\n",
      "max_pooling2d_1 (MaxPooling2 (None, 6, 6, 32)          0         \n",
      "_________________________________________________________________\n",
      "dropout_1 (Dropout)          (None, 6, 6, 32)          0         \n",
      "_________________________________________________________________\n",
      "conv2d_3 (Conv2D)            (None, 6, 6, 64)          18496     \n",
      "_________________________________________________________________\n",
      "leaky_re_lu_3 (LeakyReLU)    (None, 6, 6, 64)          0         \n",
      "_________________________________________________________________\n",
      "max_pooling2d_2 (MaxPooling2 (None, 3, 3, 64)          0         \n",
      "_________________________________________________________________\n",
      "dropout_2 (Dropout)          (None, 3, 3, 64)          0         \n",
      "_________________________________________________________________\n",
      "flatten (Flatten)            (None, 576)               0         \n",
      "_________________________________________________________________\n",
      "dense (Dense)                (None, 256)               147712    \n",
      "_________________________________________________________________\n",
      "dense_1 (Dense)              (None, 256)               65792     \n",
      "_________________________________________________________________\n",
      "dropout_3 (Dropout)          (None, 256)               0         \n",
      "_________________________________________________________________\n",
      "dense_2 (Dense)              (None, 10)                2570      \n",
      "=================================================================\n",
      "Total params: 248,618\n",
      "Trainable params: 248,618\n",
      "Non-trainable params: 0\n",
      "_________________________________________________________________\n"
     ]
    }
   ],
   "source": [
    "n_classes = len(os.listdir(DATA_DIR))\n",
    "model = make_model(n_classes)\n",
    "model.summary()"
   ]
  },
  {
   "cell_type": "markdown",
   "metadata": {
    "id": "24VNfcMWHaKJ"
   },
   "source": [
    "# Обучение модели\n",
    "\n",
    "val_accuracy > 0.85 - 1 балл\n",
    "\n",
    "val_accuracy > 0.88 - 2 балла\n",
    "\n",
    "val_accuracy > 0.91 - 3 балла\n",
    "\n",
    "val_accuracy > 0.92 - 4 балла\n",
    "\n",
    "\n",
    "**Максимальный суммарный балл** - 11\n",
    "\n",
    "**Финальная оценка**: min(суммарный балл, 10)\n"
   ]
  },
  {
   "cell_type": "code",
   "execution_count": 17,
   "metadata": {
    "id": "DnPx_xdRR7yP"
   },
   "outputs": [],
   "source": [
    "EPOCHS = 10\n",
    "\n",
    "K.clear_session()"
   ]
  },
  {
   "cell_type": "code",
   "execution_count": 18,
   "metadata": {
    "id": "JeANKvriwgOX"
   },
   "outputs": [],
   "source": [
    "step_size_train = (train_generator.n // train_generator.batch_size)\n",
    "step_size_valid = (valid_generator.n // valid_generator.batch_size)"
   ]
  },
  {
   "cell_type": "code",
   "execution_count": 19,
   "metadata": {
    "colab": {
     "base_uri": "https://localhost:8080/"
    },
    "id": "5CZoXDKhSPjk",
    "outputId": "14e76b40-7ad9-4957-9a09-0479975d5e8d"
   },
   "outputs": [
    {
     "name": "stderr",
     "output_type": "stream",
     "text": [
      "/usr/local/lib/python3.6/dist-packages/tensorflow/python/keras/engine/training.py:1844: UserWarning: `Model.fit_generator` is deprecated and will be removed in a future version. Please use `Model.fit`, which supports generators.\n",
      "  warnings.warn('`Model.fit_generator` is deprecated and '\n"
     ]
    },
    {
     "name": "stdout",
     "output_type": "stream",
     "text": [
      "Epoch 1/10\n",
      "14881/14881 [==============================] - 240s 16ms/step - loss: 0.7700 - accuracy: 0.7589 - val_loss: 0.2849 - val_accuracy: 0.9137\n",
      "Epoch 2/10\n",
      "14881/14881 [==============================] - 238s 16ms/step - loss: 0.3831 - accuracy: 0.8838 - val_loss: 0.2519 - val_accuracy: 0.9229\n",
      "Epoch 3/10\n",
      "14881/14881 [==============================] - 236s 16ms/step - loss: 0.3377 - accuracy: 0.8966 - val_loss: 0.2330 - val_accuracy: 0.9278\n",
      "Epoch 4/10\n",
      "14881/14881 [==============================] - 236s 16ms/step - loss: 0.3146 - accuracy: 0.9034 - val_loss: 0.2190 - val_accuracy: 0.9328\n",
      "Epoch 5/10\n",
      "14881/14881 [==============================] - 236s 16ms/step - loss: 0.2988 - accuracy: 0.9081 - val_loss: 0.2148 - val_accuracy: 0.9341\n",
      "Epoch 6/10\n",
      "14881/14881 [==============================] - 235s 16ms/step - loss: 0.2865 - accuracy: 0.9118 - val_loss: 0.2088 - val_accuracy: 0.9354\n",
      "Epoch 7/10\n",
      "14881/14881 [==============================] - 234s 16ms/step - loss: 0.2814 - accuracy: 0.9126 - val_loss: 0.1994 - val_accuracy: 0.9384\n",
      "Epoch 8/10\n",
      "14881/14881 [==============================] - 234s 16ms/step - loss: 0.2726 - accuracy: 0.9158 - val_loss: 0.1982 - val_accuracy: 0.9385\n",
      "Epoch 9/10\n",
      "14881/14881 [==============================] - 235s 16ms/step - loss: 0.2654 - accuracy: 0.9179 - val_loss: 0.1951 - val_accuracy: 0.9394\n",
      "Epoch 10/10\n",
      "14881/14881 [==============================] - 234s 16ms/step - loss: 0.2618 - accuracy: 0.9185 - val_loss: 0.1932 - val_accuracy: 0.9401\n"
     ]
    },
    {
     "data": {
      "text/plain": [
       "<tensorflow.python.keras.callbacks.History at 0x7f042f90e9e8>"
      ]
     },
     "execution_count": 19,
     "metadata": {
      "tags": []
     },
     "output_type": "execute_result"
    }
   ],
   "source": [
    "model.fit_generator(\n",
    "    train_generator,  # prepared data\n",
    "    steps_per_epoch=step_size_train,\n",
    "    epochs=EPOCHS,\n",
    "    validation_data=valid_generator,\n",
    "    validation_steps=step_size_valid,\n",
    "    shuffle=True,\n",
    "    verbose=1,\n",
    "    initial_epoch=0\n",
    ")"
   ]
  },
  {
   "cell_type": "code",
   "execution_count": 21,
   "metadata": {
    "id": "IwyKAFo11TsY"
   },
   "outputs": [],
   "source": [
    "# Получили val_accuracy = 0.9401 на 10-ой эпохе"
   ]
  },
  {
   "cell_type": "code",
   "execution_count": null,
   "metadata": {
    "id": "HMZmuMSO_Tuw"
   },
   "outputs": [],
   "source": []
  }
 ],
 "metadata": {
  "accelerator": "GPU",
  "colab": {
   "collapsed_sections": [],
   "name": "homework_1_Shirnin184.ipynb",
   "provenance": [],
   "toc_visible": true
  },
  "kernelspec": {
   "display_name": "Python 3",
   "language": "python",
   "name": "python3"
  },
  "language_info": {
   "codemirror_mode": {
    "name": "ipython",
    "version": 3
   },
   "file_extension": ".py",
   "mimetype": "text/x-python",
   "name": "python",
   "nbconvert_exporter": "python",
   "pygments_lexer": "ipython3",
   "version": "3.8.5"
  }
 },
 "nbformat": 4,
 "nbformat_minor": 1
}
